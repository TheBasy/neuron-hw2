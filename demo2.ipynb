{
 "cells": [
  {
   "cell_type": "code",
   "execution_count": null,
   "metadata": {},
   "outputs": [],
   "source": [
    "import h5py\n",
    "import os, urllib\n",
    "import numpy as np\n",
    "import matplotlib.pyplot as plt\n",
    "import pandas as pd\n",
    "from scipy.interpolate import interp1d\n",
    "from scipy.ndimage import convolve1d"
   ]
  },
  {
   "cell_type": "code",
   "execution_count": null,
   "metadata": {},
   "outputs": [],
   "source": [
    "def moving_center(X, n, axis=0):\n",
    "    if n % 2 == 0:\n",
    "        n += 1\n",
    "    w = -np.ones(n) / n\n",
    "    w[n // 2] += 1\n",
    "    X_ctd = convolve1d(X, w, axis=axis)\n",
    "    return X_ctd"
   ]
  },
  {
   "cell_type": "code",
   "execution_count": null,
   "metadata": {},
   "outputs": [],
   "source": [
    "def load_sabes_data(filename, bin_width_s=.05, high_pass=True, sqrt=True, thresh=5000,\n",
    "                    zscore_pos=True):\n",
    "    # Load MATLAB file\n",
    "    with h5py.File(filename, \"r\") as f:\n",
    "        # Get channel names (e.g. M1 001 or S1 001)\n",
    "        n_channels = f['chan_names'].shape[1]\n",
    "        chan_names = []\n",
    "        for i in range(n_channels):\n",
    "            chan_names.append(f[f['chan_names'][0, i]][()].tobytes()[::2].decode())\n",
    "        # Get M1 and S1 indices\n",
    "        M1_indices = [i for i in range(n_channels) if chan_names[i].split(' ')[0] == 'M1']\n",
    "        S1_indices = [i for i in range(n_channels) if chan_names[i].split(' ')[0] == 'S1']\n",
    "        # Get time\n",
    "        t = f['t'][0, :]\n",
    "        # Individually process M1 and S1 indices\n",
    "        result = {}\n",
    "        for indices in (M1_indices, S1_indices):\n",
    "            if len(indices) == 0:\n",
    "                continue\n",
    "            # Get region (M1 or S1)\n",
    "            region = chan_names[indices[0]].split(\" \")[0]\n",
    "            # Perform binning\n",
    "            n_channels = len(indices)\n",
    "            n_sorted_units = f[\"spikes\"].shape[0] - 1  # The FIRST one is the 'hash' -- ignore!\n",
    "            d = n_channels * n_sorted_units\n",
    "            max_t = t[-1]\n",
    "            n_bins = int(np.floor((max_t - t[0]) / bin_width_s))\n",
    "            binned_spikes = np.zeros((n_bins, d), dtype=np.int)\n",
    "            for chan_idx in indices:\n",
    "                for unit_idx in range(1, n_sorted_units):  # ignore hash!\n",
    "                    spike_times = f[f[\"spikes\"][unit_idx, chan_idx]][()]\n",
    "                    if spike_times.shape == (2,):\n",
    "                        # ignore this case (no data)\n",
    "                        continue\n",
    "                    spike_times = spike_times[0, :]\n",
    "                    # get rid of extraneous t vals\n",
    "                    spike_times = spike_times[spike_times - t[0] < n_bins * bin_width_s]\n",
    "                    bin_idx = np.floor((spike_times - t[0]) / bin_width_s).astype(np.int)\n",
    "                    unique_idxs, counts = np.unique(bin_idx, return_counts=True)\n",
    "                    # make sure to ignore the hash here...\n",
    "                    binned_spikes[unique_idxs, chan_idx * n_sorted_units + unit_idx - 1] += counts\n",
    "            binned_spikes = binned_spikes[:, binned_spikes.sum(axis=0) > thresh]\n",
    "            if sqrt:\n",
    "                binned_spikes = np.sqrt(binned_spikes)\n",
    "            if high_pass:\n",
    "                binned_spikes = moving_center(binned_spikes, n=600)\n",
    "            result[region] = binned_spikes\n",
    "        # Get cursor position\n",
    "        cursor_pos = f[\"cursor_pos\"][:].T\n",
    "        # Line up the binned spikes with the cursor data\n",
    "        t_mid_bin = np.arange(len(binned_spikes)) * bin_width_s + bin_width_s / 2\n",
    "        cursor_pos_interp = interp1d(t - t[0], cursor_pos, axis=0)\n",
    "        cursor_interp = cursor_pos_interp(t_mid_bin)\n",
    "        if zscore_pos:\n",
    "            cursor_interp -= cursor_interp.mean(axis=0, keepdims=True)\n",
    "            cursor_interp /= cursor_interp.std(axis=0, keepdims=True)\n",
    "        result[\"cursor\"] = cursor_interp\n",
    "        # Get target position\n",
    "        target_pos = f[\"target_pos\"][:].T\n",
    "        target_pos_interp = interp1d(t - t[0], target_pos, axis=0)\n",
    "        target_interp = target_pos_interp(t_mid_bin)\n",
    "        if zscore_pos:\n",
    "            target_interp -= target_interp.mean(axis=0, keepdims=True)\n",
    "            target_interp /= target_interp.std(axis=0, keepdims=True)\n",
    "        result[\"target\"] = target_interp\n",
    "        return result"
   ]
  },
  {
   "cell_type": "code",
   "execution_count": null,
   "metadata": {},
   "outputs": [],
   "source": [
    "fname = 'indy_20160627_01.mat'"
   ]
  },
  {
   "cell_type": "code",
   "execution_count": null,
   "metadata": {},
   "outputs": [],
   "source": [
    "data = load_sabes_data(fname, bin_width_s=.05)\n"
   ]
  },
  {
   "cell_type": "code",
   "execution_count": null,
   "metadata": {},
   "outputs": [],
   "source": [
    "Y = data['cursor']\n"
   ]
  },
  {
   "cell_type": "code",
   "execution_count": null,
   "metadata": {},
   "outputs": [],
   "source": [
    "len(Y)"
   ]
  },
  {
   "cell_type": "code",
   "execution_count": null,
   "metadata": {},
   "outputs": [],
   "source": [
    "plt.figure(figsize=(5, 5))\n",
    "plt.plot(*Y[:1200].T, c='k')\n",
    "plt.xlabel('cursor x')\n",
    "plt.ylabel('cursor y')"
   ]
  },
  {
   "cell_type": "code",
   "execution_count": null,
   "metadata": {},
   "outputs": [],
   "source": [
    "def calculate_velocity(cursor_interp):\n",
    "   # 计算速度矩阵\n",
    "   velocity = np.gradient(cursor_interp, axis=0)\n",
    "   return velocity\n",
    "\n",
    "velocity = calculate_velocity(Y)\n"
   ]
  },
  {
   "cell_type": "code",
   "execution_count": null,
   "metadata": {},
   "outputs": [],
   "source": [
    "velocity"
   ]
  },
  {
   "cell_type": "code",
   "execution_count": null,
   "metadata": {},
   "outputs": [],
   "source": [
    "plt.figure(figsize=(5, 5))\n",
    "plt.plot(*velocity[:1200].T, c='k')\n",
    "plt.xlabel('velocity x')\n",
    "plt.ylabel('velocity y')"
   ]
  },
  {
   "cell_type": "code",
   "execution_count": null,
   "metadata": {},
   "outputs": [],
   "source": [
    "acc = calculate_velocity(velocity)\n",
    "plt.figure(figsize=(5, 5))\n",
    "plt.plot(*acc[:1200].T, c='k')\n",
    "plt.xlabel('acc x')\n",
    "plt.ylabel('acc y')"
   ]
  },
  {
   "cell_type": "code",
   "execution_count": null,
   "metadata": {},
   "outputs": [],
   "source": [
    "def generate_lidar(distance, standard_deviation):\n",
    "\tran = np.random.normal(0, standard_deviation, (len(distance),2))\n",
    "\treturn distance + ran"
   ]
  },
  {
   "cell_type": "code",
   "execution_count": null,
   "metadata": {},
   "outputs": [],
   "source": [
    "T=data['target']"
   ]
  },
  {
   "cell_type": "code",
   "execution_count": null,
   "metadata": {},
   "outputs": [],
   "source": [
    "plt.figure(figsize=(5, 5))\n",
    "plt.plot(*T[:1200].T, c='k')\n",
    "plt.xlabel('cursor x')\n",
    "plt.ylabel('cursor y')"
   ]
  },
  {
   "cell_type": "code",
   "execution_count": null,
   "metadata": {},
   "outputs": [],
   "source": [
    "tvelocity = calculate_velocity(T)\n",
    "plt.figure(figsize=(5, 5))\n",
    "plt.plot(*tvelocity[:1200].T, c='k')\n",
    "plt.xlabel('velocity x')\n",
    "plt.ylabel('velocity y')"
   ]
  },
  {
   "cell_type": "code",
   "execution_count": null,
   "metadata": {},
   "outputs": [],
   "source": [
    "tacc = calculate_velocity(tvelocity)\n",
    "plt.figure(figsize=(5, 5))\n",
    "plt.plot(*tacc[:1200].T, c='k')\n",
    "plt.xlabel('cursor x')\n",
    "plt.ylabel('cursor y')"
   ]
  },
  {
   "cell_type": "code",
   "execution_count": null,
   "metadata": {},
   "outputs": [],
   "source": [
    "import matrix as m\n",
    "import math\n",
    "initial_distance = 0\n",
    "initial_velocity = 0\n",
    "x_initial = m.Matrix([[initial_distance], [initial_velocity * 1e-3 / (60 * 60)]])\n",
    "P_initial = m.Matrix([[5, 0],[0, 5]])\n",
    "standard_deviation = 0.1"
   ]
  },
  {
   "cell_type": "code",
   "execution_count": null,
   "metadata": {},
   "outputs": [],
   "source": [
    "def F_matrix(delta_t):\n",
    "    return m.Matrix([[1, delta_t], [0, 1]])\n",
    "\n",
    "def Q_matrix(delta_t, variance):\n",
    "    t4 = math.pow(delta_t, 4)\n",
    "    t3 = math.pow(delta_t, 3)\n",
    "    t2 = math.pow(delta_t, 2)\n",
    "    \n",
    "    return variance * m.Matrix([[(1/4)*t4, (1/2)*t3], [(1/2)*t3, t2]])"
   ]
  },
  {
   "cell_type": "code",
   "execution_count": null,
   "metadata": {},
   "outputs": [],
   "source": [
    "lidar_variance = standard_deviation**2\n",
    "H = m.Matrix([[1, 0]])\n",
    "R = m.Matrix([[lidar_variance]])\n",
    "I = m.identity(2)"
   ]
  },
  {
   "cell_type": "code",
   "execution_count": null,
   "metadata": {},
   "outputs": [],
   "source": [
    "# Kalman Filter Implementation\n",
    "\n",
    "x = x_initial\n",
    "P = P_initial\n",
    "\n",
    "x_result = []\n",
    "time_result = []\n",
    "v_result = []\n",
    "acceleration_variance = 20\n",
    "\n",
    "for i in range(len(Y) - 1):\n",
    "        \n",
    "    # calculate time that has passed between lidar measurements\n",
    "    delta_t = 0.05\n",
    "\n",
    "    # Prediction Step - estimates how far the object traveled during the time interval\n",
    "    F = F_matrix(delta_t)\n",
    "    Q = Q_matrix(delta_t, acceleration_variance)\n",
    "    \n",
    "    x_prime = F * x\n",
    "    P_prime = F * P * F.T() + Q\n",
    "    \n",
    "    # Measurement Update Step\n",
    "    y = m.Matrix([[T[i + 1]]]) - H * x_prime\n",
    "    S = H * P_prime * H.T() + R\n",
    "    K = P_prime * H.T() * S.inverse()\n",
    "    x = x_prime + K * y\n",
    "    P = (I - K * H) * P_prime\n",
    "\n",
    "    # Store distance and velocity belief and current time\n",
    "    x_result.append(x[0][0])"
   ]
  },
  {
   "cell_type": "code",
   "execution_count": null,
   "metadata": {},
   "outputs": [],
   "source": [
    "\n",
    "result = np.array([list(x) for x in x_result])\n",
    "result"
   ]
  },
  {
   "cell_type": "code",
   "execution_count": null,
   "metadata": {},
   "outputs": [],
   "source": [
    "plt.figure(figsize=(5, 5))\n",
    "plt.plot(*result[:1200].T, c='k')\n",
    "plt.xlabel('cursor x')\n",
    "plt.ylabel('cursor y')"
   ]
  },
  {
   "cell_type": "code",
   "execution_count": null,
   "metadata": {},
   "outputs": [],
   "source": [
    "def get_R2(y_test,y_test_pred):\n",
    "\n",
    "    \"\"\"\n",
    "    Function to get R2\n",
    "\n",
    "    Parameters\n",
    "    ----------\n",
    "    y_test - the true outputs (a matrix of size number of examples x number of outputs)\n",
    "    y_test_pred - the predicted outputs (a matrix of size number of examples x number of outputs)\n",
    "\n",
    "    Returns\n",
    "    -------\n",
    "    R2_array: An array of R2s for each output\n",
    "    \"\"\"\n",
    "\n",
    "    R2_list=[] #Initialize a list that will contain the R2s for all the outputs\n",
    "    for i in range(y_test.shape[1]): #Loop through outputs\n",
    "        #Compute R2 for each output\n",
    "        y_mean=np.mean(y_test[:,i])\n",
    "        R2=1-np.sum((y_test_pred[:,i]-y_test[:,i])**2)/np.sum((y_test[:,i]-y_mean)**2)\n",
    "        R2_list.append(R2) #Append R2 of this output to the list\n",
    "    R2_array=np.array(R2_list)\n",
    "    return R2_array #Return an array of R2s"
   ]
  },
  {
   "cell_type": "code",
   "execution_count": null,
   "metadata": {},
   "outputs": [],
   "source": [
    "len(result)\n"
   ]
  },
  {
   "cell_type": "code",
   "execution_count": null,
   "metadata": {},
   "outputs": [],
   "source": [
    "len(T)"
   ]
  },
  {
   "cell_type": "code",
   "execution_count": null,
   "metadata": {},
   "outputs": [],
   "source": [
    "r2 = get_R2(result,T[1:])\n",
    "r2"
   ]
  }
 ],
 "metadata": {
  "kernelspec": {
   "display_name": "base",
   "language": "python",
   "name": "python3"
  },
  "language_info": {
   "codemirror_mode": {
    "name": "ipython",
    "version": 3
   },
   "file_extension": ".py",
   "mimetype": "text/x-python",
   "name": "python",
   "nbconvert_exporter": "python",
   "pygments_lexer": "ipython3",
   "version": "3.11.4"
  }
 },
 "nbformat": 4,
 "nbformat_minor": 2
}
