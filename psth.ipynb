{
 "cells": [
  {
   "cell_type": "code",
   "execution_count": null,
   "metadata": {},
   "outputs": [],
   "source": [
    "import scipy.io as sio\n",
    "import matplotlib.pyplot as plt\n",
    "import numpy as np\n",
    "import mat73"
   ]
  },
  {
   "cell_type": "code",
   "execution_count": null,
   "metadata": {},
   "outputs": [],
   "source": [
    "# mat_data = h5py.File('indy_20160407_02.mat', 'r')\n",
    "mat_data = mat73.loadmat('indy_20160627_01.mat')"
   ]
  },
  {
   "cell_type": "code",
   "execution_count": null,
   "metadata": {},
   "outputs": [],
   "source": [
    "print(mat_data.keys())"
   ]
  },
  {
   "cell_type": "code",
   "execution_count": null,
   "metadata": {},
   "outputs": [],
   "source": [
    "print(len(mat_data['chan_names']))"
   ]
  },
  {
   "cell_type": "code",
   "execution_count": null,
   "metadata": {},
   "outputs": [],
   "source": [
    "print(len(mat_data['t']))"
   ]
  },
  {
   "cell_type": "code",
   "execution_count": null,
   "metadata": {},
   "outputs": [],
   "source": [
    "spikes_times = []\n",
    "\n",
    "time = -1\n",
    "for i in range(96):\n",
    "    spike_time = mat_data['spikes'][i][0]\n",
    "    if spike_time is not None:\n",
    "        temp = np.argmax(spike_time)\n",
    "        time = max(time, temp)\n",
    "    spikes_times.append(spike_time)"
   ]
  },
  {
   "cell_type": "code",
   "execution_count": null,
   "metadata": {},
   "outputs": [],
   "source": [
    "fig, ax = plt.subplots()\n",
    "\n",
    "# Loop to plot raster for each trial\n",
    "# for trial in range(len(ten_spike_trains)):\n",
    "#     spike_times = [i for i, x in enumerate(ten_spike_trains[trial]) if x == spike_value]\n",
    "#     ax.vlines(spike_times, trial - 0.5, trial + 0.5)\n",
    "\n",
    "for i in range(16):\n",
    "    ax.vlines(spikes_times[i], i - 0.5, i + 0.5)\n",
    "\n",
    "ax.set_xlim([1280, 1300])\n",
    "ax.set_xlabel('Time (ms)')\n",
    "\n",
    "# specify tick marks and label label y axis\n",
    "ax.set_yticks(range(16))\n",
    "ax.set_ylabel('Trial Number')\n",
    "\n",
    "ax.set_title('Neuronal Spike Times') \n",
    "\n",
    "# add shading for stimulus duration)\n",
    "# ax.axvspan(light_onset_time, light_offset_time, alpha=0.5, color='greenyellow')\n",
    "\n",
    "plt.show()"
   ]
  },
  {
   "cell_type": "code",
   "execution_count": null,
   "metadata": {},
   "outputs": [],
   "source": [
    "new_spike = []\n",
    "for x in spikes_times:\n",
    "    if x is None:\n",
    "        new_spike.append(np.array([0.0]))\n",
    "    else:\n",
    "        new_spike.append(np.array(x))\n",
    "print(new_spike)"
   ]
  },
  {
   "cell_type": "code",
   "execution_count": null,
   "metadata": {},
   "outputs": [],
   "source": [
    "print(len(spikes_times[43]), spikes_times[44].size)"
   ]
  },
  {
   "cell_type": "code",
   "execution_count": null,
   "metadata": {},
   "outputs": [],
   "source": [
    "fig, ax = plt.subplots()\n",
    "\n",
    "# add shading for stimulus duration)\n",
    "# Do this first, so it's drawn \"under\" the PSTH\n",
    "# flat_data = [item for sublist in spikes_times if sublist is not None for item in sublist]\n",
    "\n",
    "# flat_data = [item for sublist in spikes_times if sublist is not None for item in (sublist if )]\n",
    "print(np.isscalar(spikes_times[44]))\n",
    "\n",
    "flat_data = []\n",
    "for sublist in spikes_times:\n",
    "    if sublist is not None:\n",
    "        if sublist.size == 1:\n",
    "            flat_data.append(sublist.item())\n",
    "        else:\n",
    "            for item in sublist:\n",
    "                flat_data.append(item)\n",
    "# new_spike = np.array(new_spike)\n",
    "# new_spike = np.empty_like(new_spike, dtype=object)\n",
    "# Draw the PSTH\n",
    "# 计算直方图\n",
    "bin_edges = np.arange(min(flat_data) - 0.25, max(flat_data) + 0.25, 0.5)\n",
    "hist, _ = np.histogram(flat_data, bins=bin_edges)\n",
    "\n",
    "# 绘制直方图\n",
    "plt.bar(bin_edges[0:30], hist[0:30], width=0.5, align='center')\n",
    "\n",
    "# 设置图形属性\n",
    "plt.xlabel('Time (ms)')\n",
    "plt.ylabel('Count')\n",
    "plt.title('Histogram of Data')\n",
    "plt.grid(axis='y')\n",
    "\n",
    "# 显示图形\n",
    "plt.show()\n",
    "# ax.bar(range(len(new_spike)), np.sum(new_spike, 0))\n",
    "\n",
    "# # Make pretty\n",
    "# ax.set_title('Peri-Stimulus Time Histogram (PSTH)')\n",
    "# ax.set_xlabel('Time (ms)')\n",
    "# ax.set_ylabel('Num. spike occurrences at this time')\n",
    "\n",
    "# plt.show()"
   ]
  },
  {
   "cell_type": "code",
   "execution_count": null,
   "metadata": {},
   "outputs": [],
   "source": [
    "# 提取数据\n",
    "spikes = mat_data['spikes']\n",
    "num_neurons = len(spikes)\n",
    "trial_duration = mat_data['t'][-1]\n",
    "num_trials = len(spikes[0][0])"
   ]
  }
 ],
 "metadata": {
  "kernelspec": {
   "display_name": "mne",
   "language": "python",
   "name": "python3"
  },
  "language_info": {
   "codemirror_mode": {
    "name": "ipython",
    "version": 3
   },
   "file_extension": ".py",
   "mimetype": "text/x-python",
   "name": "python",
   "nbconvert_exporter": "python",
   "pygments_lexer": "ipython3",
   "version": "3.11.4"
  }
 },
 "nbformat": 4,
 "nbformat_minor": 2
}
