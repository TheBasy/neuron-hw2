{
 "cells": [
  {
   "cell_type": "code",
   "execution_count": null,
   "metadata": {},
   "outputs": [],
   "source": [
    "import scipy.io as sio\n",
    "from scipy.interpolate import interp1d\n",
    "\n",
    "import matplotlib.pyplot as plt\n",
    "import numpy as np\n",
    "import mat73"
   ]
  },
  {
   "cell_type": "code",
   "execution_count": null,
   "metadata": {},
   "outputs": [],
   "source": [
    "mat_data = mat73.loadmat('indy_20160627_01.mat')"
   ]
  },
  {
   "cell_type": "code",
   "execution_count": null,
   "metadata": {},
   "outputs": [],
   "source": [
    "spikes_times = []\n",
    "\n",
    "time = -1\n",
    "\n",
    "for i in range(96):\n",
    "    spike_time = mat_data['spikes'][i][0]\n",
    "    if spike_time is not None:\n",
    "        temp = np.argmax(spike_time)\n",
    "        time = max(time, temp)\n",
    "    spikes_times.append(spike_time)"
   ]
  },
  {
   "cell_type": "code",
   "execution_count": null,
   "metadata": {},
   "outputs": [],
   "source": [
    "import numpy as np\n",
    "\n",
    "def calculate_direction_speed_acceleration(target_pos, cursor_pos, time_points):\n",
    "    # 计算位移向量\n",
    "    displacement_vector = target_pos - cursor_pos\n",
    "    \n",
    "    # 计算时间差\n",
    "    time_diff = np.diff(time_points.flatten())  # 将时间点展平，然后计算差分\n",
    "\n",
    "    # 计算速度向量\n",
    "    velocity_vector = np.diff(cursor_pos, axis=0) / time_diff[:, np.newaxis]\n",
    "\n",
    "    # 计算加速度向量\n",
    "    acceleration_vector = np.diff(velocity_vector, axis=0) / time_diff[1:, np.newaxis]\n",
    "\n",
    "    # 计算方向角\n",
    "    direction_angle = np.arctan2(displacement_vector[:, 1], displacement_vector[:, 0])\n",
    "    \n",
    "    angle = np.degrees(direction_angle)\n",
    "    \n",
    "    # 将角度调整为在0到360度之间\n",
    "    direction_angle = (angle + 360) % 360\n",
    "\n",
    "    return direction_angle, velocity_vector, acceleration_vector\n"
   ]
  },
  {
   "cell_type": "code",
   "execution_count": null,
   "metadata": {},
   "outputs": [],
   "source": [
    "direction_angle, velocity_vector, acceleration_vector = calculate_direction_speed_acceleration(mat_data['target_pos'], mat_data['cursor_pos'], mat_data['t'])\n",
    "\n",
    "# 打印结果\n",
    "print(\"方向角：\", direction_angle[0:5])\n",
    "print(\"速度向量：\", velocity_vector[0:5])\n",
    "print(\"加速度向量：\", acceleration_vector[0:5])"
   ]
  },
  {
   "cell_type": "code",
   "execution_count": null,
   "metadata": {},
   "outputs": [],
   "source": [
    "def round_to_nearest(x, interval=0.004):\n",
    "    return [int(round(num / interval) * 4) for num in x]\n",
    "\n",
    "flat_data = []\n",
    "for sublist in spikes_times:\n",
    "    if sublist is not None:\n",
    "        if sublist.size == 1:\n",
    "            flat_data.append(sublist.item())\n",
    "        else:\n",
    "            for item in sublist:\n",
    "                flat_data.append(item)\n",
    "                \n",
    "flat_data = round_to_nearest(flat_data)\n",
    "print(flat_data[0:20])"
   ]
  },
  {
   "cell_type": "code",
   "execution_count": null,
   "metadata": {},
   "outputs": [],
   "source": [
    "(mat_data[\"t\"][-1] - mat_data[\"t\"][0]) / 0.004 # 50 单位 = 0.2s"
   ]
  },
  {
   "cell_type": "code",
   "execution_count": null,
   "metadata": {},
   "outputs": [],
   "source": [
    "# 将映射后的结果按照50为间隔进行处理\n",
    "interval = 200\n",
    "mapped_t = np.arange(1288000, 1288000 + 93501 * 4, interval)\n",
    "count_per_interval = np.histogram(flat_data, bins=1871)"
   ]
  },
  {
   "cell_type": "code",
   "execution_count": null,
   "metadata": {},
   "outputs": [],
   "source": [
    "import matplotlib.pyplot as plt"
   ]
  },
  {
   "cell_type": "code",
   "execution_count": null,
   "metadata": {},
   "outputs": [],
   "source": [
    "direction_angle_360 = [int(x) for x in direction_angle]\n",
    "\n",
    "count_360 = [set() for _ in range(360)]\n",
    "\n",
    "repeated_values = np.repeat(np.arange(0, 1871, 1), 50)\n",
    "\n",
    "for i, angle in enumerate(direction_angle_360):\n",
    "    count_360[angle].add(int(repeated_values[i]))\n",
    "\n",
    "number_angle = [0 for i in range(360)]\n",
    "\n",
    "for i in range(360):\n",
    "    tmp = list(count_360[i])\n",
    "    \n",
    "    count = 0\n",
    "    for j in tmp:\n",
    "        count = count + count_per_interval[0][j]\n",
    "        \n",
    "    number_angle[i] = count"
   ]
  },
  {
   "cell_type": "code",
   "execution_count": null,
   "metadata": {},
   "outputs": [],
   "source": [
    "# 绘制 count_per_interval 的柱状图\n",
    "plt.bar([i for i in range(-180, 180)], number_angle[int(len(number_angle) / 2):-1] + number_angle[0:int(len(number_angle) / 2) + 1], align='edge')\n",
    "\n",
    "# 添加标签和标题\n",
    "plt.xlabel('angle')\n",
    "plt.ylabel('firing rate')\n",
    "plt.title('tuning curve')\n",
    "\n",
    "# 显示图表\n",
    "plt.show()"
   ]
  },
  {
   "cell_type": "code",
   "execution_count": null,
   "metadata": {},
   "outputs": [],
   "source": [
    "def round_to_half(x):\n",
    "    return [int(round(num * 2)) / 2 for num in x]\n",
    "\n",
    "velocity_vector_xy = np.array(velocity_vector)\n",
    "\n",
    "# 计算每个向量的长度\n",
    "speeds_xy = np.linalg.norm(velocity_vector_xy, axis=1)\n",
    "\n",
    "speed_half = round_to_half(speeds_xy / 100)"
   ]
  },
  {
   "cell_type": "code",
   "execution_count": null,
   "metadata": {},
   "outputs": [],
   "source": [
    "print(len(list(set(speed_half))))"
   ]
  },
  {
   "cell_type": "code",
   "execution_count": null,
   "metadata": {},
   "outputs": [],
   "source": [
    "count_v = [set() for _ in range(13)]\n",
    "count_vs = [0 for _ in range(13)]\n",
    "\n",
    "repeated_values = np.repeat(np.arange(0, 1871, 1), 50)\n",
    "\n",
    "for i, speed in enumerate(speed_half):\n",
    "    count_v[int(speed / 0.5)].add(int(repeated_values[i]))\n",
    "    count_vs[int(speed / 0.5)] = count_vs[int(speed / 0.5)] + 1\n",
    "\n",
    "number_v = [0 for i in range(13)]\n",
    "\n",
    "for i in range(13):\n",
    "    tmp = list(count_v[i])\n",
    "    \n",
    "    count = 0\n",
    "    for j in tmp:\n",
    "        count = count + count_per_interval[0][j]\n",
    "        \n",
    "    number_v[i] = count\n",
    "\n",
    "print(number_v)\n",
    "print(count_vs)\n",
    "\n",
    "vv = [0 for _ in range(13)]\n",
    "\n",
    "for i, k in enumerate(number_v):\n",
    "    vv[i] = int(number_v[i] * 2 / count_vs[i])"
   ]
  },
  {
   "cell_type": "code",
   "execution_count": null,
   "metadata": {},
   "outputs": [],
   "source": [
    "# 绘制 count_per_interval 的柱状图\n",
    "plt.bar([i / 2 for i in range(13)], vv, align='edge')\n",
    "\n",
    "# 添加标签和标题\n",
    "plt.xlabel('speed')\n",
    "plt.ylabel('firing rate')\n",
    "plt.title('tuning curve')\n",
    "\n",
    "# 显示图表\n",
    "plt.show()"
   ]
  }
 ],
 "metadata": {
  "kernelspec": {
   "display_name": "mne",
   "language": "python",
   "name": "python3"
  },
  "language_info": {
   "codemirror_mode": {
    "name": "ipython",
    "version": 3
   },
   "file_extension": ".py",
   "mimetype": "text/x-python",
   "name": "python",
   "nbconvert_exporter": "python",
   "pygments_lexer": "ipython3",
   "version": "3.11.4"
  }
 },
 "nbformat": 4,
 "nbformat_minor": 2
}
