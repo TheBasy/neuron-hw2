{
 "cells": [
  {
   "cell_type": "code",
   "execution_count": 2,
   "metadata": {},
   "outputs": [],
   "source": [
    "import scipy.io as sio\n",
    "import matplotlib.pyplot as plt\n",
    "import numpy as np\n",
    "import mat73"
   ]
  },
  {
   "cell_type": "code",
   "execution_count": 3,
   "metadata": {},
   "outputs": [],
   "source": [
    "# mat_data = h5py.File('indy_20160407_02.mat', 'r')\n",
    "mat_data = mat73.loadmat('indy_20160627_01.mat')"
   ]
  },
  {
   "cell_type": "code",
   "execution_count": 4,
   "metadata": {},
   "outputs": [
    {
     "name": "stdout",
     "output_type": "stream",
     "text": [
      "dict_keys(['chan_names', 'cursor_pos', 'finger_pos', 'spikes', 't', 'target_pos', 'wf'])\n"
     ]
    }
   ],
   "source": [
    "print(mat_data.keys())"
   ]
  },
  {
   "cell_type": "code",
   "execution_count": 5,
   "metadata": {},
   "outputs": [
    {
     "name": "stdout",
     "output_type": "stream",
     "text": [
      "96\n"
     ]
    }
   ],
   "source": [
    "print(len(mat_data['chan_names']))"
   ]
  },
  {
   "cell_type": "code",
   "execution_count": 6,
   "metadata": {},
   "outputs": [
    {
     "name": "stdout",
     "output_type": "stream",
     "text": [
      "840737\n"
     ]
    }
   ],
   "source": [
    "print(len(mat_data['t']))"
   ]
  },
  {
   "cell_type": "code",
   "execution_count": 7,
   "metadata": {},
   "outputs": [],
   "source": [
    "spikes_times = []\n",
    "\n",
    "time = -1\n",
    "for i in range(96):\n",
    "    spike_time = mat_data['spikes'][i][0]\n",
    "    if spike_time is not None:\n",
    "        temp = np.argmax(spike_time)\n",
    "        time = max(time, temp)\n",
    "    spikes_times.append(spike_time)"
   ]
  },
  {
   "cell_type": "code",
   "execution_count": 11,
   "metadata": {},
   "outputs": [
    {
     "data": {
      "image/png": "[encoded data removed]",
      "text/plain": [
       "<Figure size 640x480 with 1 Axes>"
      ]
     },
     "metadata": {},
     "output_type": "display_data"
    }
   ],
   "source": [
    "fig, ax = plt.subplots()\n",
    "\n",
    "# Loop to plot raster for each trial\n",
    "# for trial in range(len(ten_spike_trains)):\n",
    "#     spike_times = [i for i, x in enumerate(ten_spike_trains[trial]) if x == spike_value]\n",
    "#     ax.vlines(spike_times, trial - 0.5, trial + 0.5)\n",
    "\n",
    "for i in range(10):\n",
    "    ax.vlines(spikes_times[i], i - 0.5, i + 0.5)\n",
    "\n",
    "ax.set_xlim([1000, 1050])\n",
    "ax.set_xlabel('Time (ms)')\n",
    "\n",
    "# specify tick marks and label label y axis\n",
    "ax.set_yticks(range(10))\n",
    "ax.set_ylabel('Trial Number')\n",
    "\n",
    "ax.set_title('Neuronal Spike Times') \n",
    "\n",
    "# add shading for stimulus duration)\n",
    "# ax.axvspan(light_onset_time, light_offset_time, alpha=0.5, color='greenyellow')\n",
    "\n",
    "plt.show()"
   ]
  },
  {
   "cell_type": "code",
   "execution_count": 9,
   "metadata": {},
   "outputs": [],
   "source": [
    "# 提取数据\n",
    "spikes = mat_data['spikes']\n",
    "num_neurons = len(spikes)\n",
    "trial_duration = mat_data['t'][-1]\n",
    "num_trials = len(spikes[0][0])"
   ]
  }
 ],
 "metadata": {
  "kernelspec": {
   "display_name": "mne",
   "language": "python",
   "name": "python3"
  },
  "language_info": {
   "codemirror_mode": {
    "name": "ipython",
    "version": 3
   },
   "file_extension": ".py",
   "mimetype": "text/x-python",
   "name": "python",
   "nbconvert_exporter": "python",
   "pygments_lexer": "ipython3",
   "version": "3.11.4"
  }
 },
 "nbformat": 4,
 "nbformat_minor": 2
}
